{
 "cells": [
  {
   "cell_type": "code",
   "execution_count": null,
   "id": "98d62264-9401-428f-9c94-5d535e763181",
   "metadata": {},
   "outputs": [],
   "source": [
    "import requests\n",
    "import json\n",
    "\n",
    "def get_bearer_token(auth_url, username, password):\n",
    "    \"\"\"\n",
    "    Obtains a bearer token from an authentication endpoint.\n",
    "\n",
    "    Args:\n",
    "        auth_url (str): The URL of the authentication endpoint.\n",
    "        username (str): The user's username.\n",
    "        password (str): The user's password.\n",
    "\n",
    "    Returns:\n",
    "        str or None: The bearer token if successful, otherwise None.\n",
    "    \"\"\"\n",
    "    payload = {\n",
    "        'username': username,\n",
    "        'password': password,\n",
    "        'grant_type': 'password' # Common for password grant type in OAuth2\n",
    "    }\n",
    "    headers = {\n",
    "        'Content-Type': 'application/x-www-form-urlencoded' # Often required for this grant type\n",
    "    }\n",
    "\n",
    "    try:\n",
    "        response = requests.post(auth_url, data=payload, headers=headers)\n",
    "        response.raise_for_status()  # Raise an exception for HTTP errors (4xx or 5xx)\n",
    "\n",
    "        token_data = response.json()\n",
    "        bearer_token = token_data.get('access_token')\n",
    "\n",
    "        if bearer_token:\n",
    "            return bearer_token\n",
    "        else:\n",
    "            print(f\"Error: 'access_token' not found in response: {token_data}\")\n",
    "            return None\n",
    "\n",
    "    except requests.exceptions.RequestException as e:\n",
    "        print(f\"Error during token request: {e}\")\n",
    "        return None\n",
    "\n",
    "# Example usage:\n",
    "# Replace with your actual authentication URL, username, and password\n",
    "auth_endpoint = \"https://appqore.mynglic.com/api/1.0/oauth2/access_token\"\n",
    "your_username = input(\"Please enter your username: \")\n",
    "your_password = input(\"Please enter the password: \")\n",
    "\n",
    "token = get_bearer_token(auth_endpoint, your_username, your_password)\n",
    "\n",
    "if token:\n",
    "    print(f\"Bearer Token obtained: {token}\")\n",
    "    # You can now use this token in subsequent API requests\n",
    "    # Example: headers = {'Authorization': f'Bearer {token}'}\n",
    "else:\n",
    "    print(\"Failed to obtain bearer token.\")"
   ]
  },
  {
   "cell_type": "code",
   "execution_count": null,
   "id": "14a3aaba-0f1d-4263-bb24-6ee48d566297",
   "metadata": {},
   "outputs": [],
   "source": []
  }
 ],
 "metadata": {
  "kernelspec": {
   "display_name": "Python 3 (ipykernel)",
   "language": "python",
   "name": "python3"
  },
  "language_info": {
   "codemirror_mode": {
    "name": "ipython",
    "version": 3
   },
   "file_extension": ".py",
   "mimetype": "text/x-python",
   "name": "python",
   "nbconvert_exporter": "python",
   "pygments_lexer": "ipython3",
   "version": "3.10.12"
  }
 },
 "nbformat": 4,
 "nbformat_minor": 5
}
