{
 "cells": [
  {
   "cell_type": "code",
   "execution_count": 1,
   "id": "8c80c789-7b8c-4fab-b07f-fca7d5d4654f",
   "metadata": {},
   "outputs": [],
   "source": [
    "import requests"
   ]
  },
  {
   "cell_type": "code",
   "execution_count": 6,
   "id": "973492a6-0d10-462d-9b4e-070166a169fa",
   "metadata": {},
   "outputs": [],
   "source": [
    "url = \"https://ecmsvc.nglic.com/ecmservice/ecmservice.asmx?op=GetDocument\"\n",
    " \n",
    "# structured XML\n",
    "payload = \"\"\"<?xml version=\"1.0\" encoding=\"utf-8\"?>\n",
    "<soap12:Envelope xmlns:xsi=\"http://www.w3.org/2001/XMLSchema-instance\" xmlns:xsd=\"http://www.w3.org/2001/XMLSchema\" xmlns:soap12=\"http://www.w3.org/2003/05/soap-envelope\">\n",
    "  <soap12:Body>\n",
    "    <GetDocument xmlns=\"http://tempuri.org/\">\n",
    "      <DocumentID>76559001</DocumentID>\n",
    "    </GetDocument>\n",
    "  </soap12:Body>\n",
    "</soap12:Envelope>\"\"\"\n",
    "# headers\n",
    "headers = {\n",
    "    'Content-Type': 'text/xml; charset=utf-8'\n",
    "}"
   ]
  },
  {
   "cell_type": "code",
   "execution_count": 7,
   "id": "8bba868c-8bb2-4dbe-9179-f156bc59a124",
   "metadata": {},
   "outputs": [],
   "source": [
    "response = requests.request(\"POST\", url, headers=headers, data=payload)"
   ]
  },
  {
   "cell_type": "code",
   "execution_count": null,
   "id": "f9932205-4c00-4ddf-a8c7-95ec452162f7",
   "metadata": {},
   "outputs": [],
   "source": [
    "response.text"
   ]
  },
  {
   "cell_type": "code",
   "execution_count": null,
   "id": "c5878bcd-f776-49a2-833b-8fcaefb8115d",
   "metadata": {},
   "outputs": [],
   "source": []
  }
 ],
 "metadata": {
  "kernelspec": {
   "display_name": "Python 3 (ipykernel)",
   "language": "python",
   "name": "python3"
  },
  "language_info": {
   "codemirror_mode": {
    "name": "ipython",
    "version": 3
   },
   "file_extension": ".py",
   "mimetype": "text/x-python",
   "name": "python",
   "nbconvert_exporter": "python",
   "pygments_lexer": "ipython3",
   "version": "3.10.12"
  }
 },
 "nbformat": 4,
 "nbformat_minor": 5
}
